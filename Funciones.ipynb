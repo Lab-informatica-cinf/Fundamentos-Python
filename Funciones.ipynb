{
  "nbformat": 4,
  "nbformat_minor": 0,
  "metadata": {
    "colab": {
      "name": "Funciones.ipynb",
      "provenance": []
    },
    "kernelspec": {
      "name": "python3",
      "display_name": "Python 3"
    }
  },
  "cells": [
    {
      "cell_type": "markdown",
      "metadata": {
        "id": "mYpB4SBkzvM1",
        "colab_type": "text"
      },
      "source": [
        "FUNCIONES: CONCEPTO Y EJEMPLOS\n",
        "\n",
        "#### **Definicion**: una funcion es un fragmento de codigo, o un bloque de codigo, al cual se le asigna un nombre. una funcion toma datos**(input)**, realiza tareas de computo(**proceso**), y devuelve datos**(**output**)**. \n",
        "\n",
        "### la naturaleza de los datos( de entrada o salida) y el proceso mismo, depende de lo que estemos programando. \n",
        "\n",
        "### Hay varios casos interesantes para revisar. Estos son: \n"
      ]
    },
    {
      "cell_type": "markdown",
      "metadata": {
        "id": "-Ilh13nH1DPv",
        "colab_type": "text"
      },
      "source": [
        "#1. Funciones basicas\n",
        "\n",
        "reciben datos unitarios de entrada, realizan un proceso y retornan una salida. "
      ]
    },
    {
      "cell_type": "code",
      "metadata": {
        "id": "dFjyrSsIzf-9",
        "colab_type": "code",
        "colab": {}
      },
      "source": [
        "#definicion y declaracion de la funcion\n",
        "def mi_primera_funcion(a,b,n):       # \"mi_primera_funcion\" es el nombre de la funcion.a,b,n son datos de entrada.\n",
        "    resultado = (a+b)/n\n",
        "    return resultado"
      ],
      "execution_count": 0,
      "outputs": []
    },
    {
      "cell_type": "code",
      "metadata": {
        "id": "GUBQTvzO2IXo",
        "colab_type": "code",
        "colab": {
          "base_uri": "https://localhost:8080/",
          "height": 34
        },
        "outputId": "8c3e29ce-8f40-43f5-b9d4-b48258f461e9"
      },
      "source": [
        "#la siguiente instruccion \"llama\" a la funcion anterior\n",
        "mi_primera_funcion(15,20,7) "
      ],
      "execution_count": 3,
      "outputs": [
        {
          "output_type": "execute_result",
          "data": {
            "text/plain": [
              "5.0"
            ]
          },
          "metadata": {
            "tags": []
          },
          "execution_count": 3
        }
      ]
    },
    {
      "cell_type": "markdown",
      "metadata": {
        "id": "9fd73SZJ2cVH",
        "colab_type": "text"
      },
      "source": [
        "#2.funciones propias de python.\n",
        "Estas funciones vienen integradas en el lenguaje de programacion, se les conoce como \"built-in funtions\", por tanto, sólo basta conocer su nombre, parametros de entrada, y por supuesto el tipo de **proceso que realiza** para utilizarlas estrategicamente en nuestra labores. \n",
        "\n",
        "como saber cuales son estas funciones integradas? veamos un paso a paso:\n",
        "\n",
        "Python, incluye en si mismo, objetos, funciones y tipos de datos, veamos cuales:"
      ]
    },
    {
      "cell_type": "code",
      "metadata": {
        "id": "xaFCXkm83MVB",
        "colab_type": "code",
        "colab": {}
      },
      "source": [
        "dir(__builtin__)\n",
        "#la instruccion \"dir\" es una funcion en si misma (built-in). \"__builtin__\", por su parte, es una objeto super especial que permite el acceso\n",
        "#a las denominaciones o nombres de los tipos de datos, funciones, objetos o instancias de clase \"built-in\"."
      ],
      "execution_count": 0,
      "outputs": []
    },
    {
      "cell_type": "markdown",
      "metadata": {
        "id": "O1wQ1vR-5zKX",
        "colab_type": "text"
      },
      "source": [
        "Para saber, del resultado anterior, cuales son, en efecto, funciones, ejecutamos la siguiente instruccion:"
      ]
    },
    {
      "cell_type": "code",
      "metadata": {
        "id": "F6G5Fj916O1T",
        "colab_type": "code",
        "colab": {}
      },
      "source": [
        "import types  \n",
        "\n",
        "for nom, obj in vars(__builtin__).items() :\n",
        "\n",
        "    if isinstance(obj,types.BuiltinFunctionType):\n",
        "\n",
        "        print(nom)"
      ],
      "execution_count": 0,
      "outputs": []
    },
    {
      "cell_type": "code",
      "metadata": {
        "id": "GGLlw9upCmsT",
        "colab_type": "code",
        "colab": {}
      },
      "source": [
        "#'''Explicaciones de lo anterior.''' \n",
        "#types es un paquete de python. Un paquete es  una biblioteca que \n",
        "#contiene diferentes archivos o modulos. Cada modulo es un archivo que contiene codigo python, pudiendo \n",
        "#ser este una funcion, un tipo de dato, un objeto, o la instancia de alguna clase(o varias de las anteriores al tiempo. :O). \n",
        "#De este paquete types,  se utiliza un tipo de dato(BuiltinFuntionType) para hacer una comparacion logica(if ([True]) -> print)."
      ],
      "execution_count": 0,
      "outputs": []
    },
    {
      "cell_type": "code",
      "metadata": {
        "id": "_cWyTFyq-_SU",
        "colab_type": "code",
        "colab": {}
      },
      "source": [
        "vars(__builtin__) #var([object])->dict. Convierte objetos en diccionarios. funciona para todo objeto que tenga un atributo __dict__; de lo contrario raise error.\n",
        "                  # todo diccionario tiene un metodo llamado items(), que convierte los elementos del dict(claves y valor), en listas de tuplas, para luego poder\n",
        "                  #iterar sobre ellas.  ver ejemplo a continuacion:"
      ],
      "execution_count": 0,
      "outputs": []
    },
    {
      "cell_type": "code",
      "metadata": {
        "id": "onhxmO2q-oE4",
        "colab_type": "code",
        "colab": {
          "base_uri": "https://localhost:8080/",
          "height": 34
        },
        "outputId": "2d468589-3b16-482a-fb65-8ae9eac807a6"
      },
      "source": [
        "d = {'a':1,'b':2}  # declaro una variable que almacena un diccionario\n",
        "d.items()          # utilizo un metodo del tipo de dato que es d"
      ],
      "execution_count": 11,
      "outputs": [
        {
          "output_type": "execute_result",
          "data": {
            "text/plain": [
              "dict_items([('a', 1), ('b', 2)])"
            ]
          },
          "metadata": {
            "tags": []
          },
          "execution_count": 11
        }
      ]
    },
    {
      "cell_type": "code",
      "metadata": {
        "id": "1uRtPDCu-vz7",
        "colab_type": "code",
        "colab": {
          "base_uri": "https://localhost:8080/",
          "height": 51
        },
        "outputId": "cc536588-8b5d-4592-df5b-6e02df4c390d"
      },
      "source": [
        "for x,y in d.items(): \n",
        "    print(x)           # imprime la clave\n",
        "    print(y)           #imprime el valor"
      ],
      "execution_count": 13,
      "outputs": [
        {
          "output_type": "stream",
          "text": [
            "a\n",
            "b\n"
          ],
          "name": "stdout"
        }
      ]
    },
    {
      "cell_type": "code",
      "metadata": {
        "id": "vm6W_Nm03Oxq",
        "colab_type": "code",
        "colab": {}
      },
      "source": [
        "# esto es una sintaxis mejorada de lo anterior, mucho mas consisa. \n",
        "builtin_functions = [obj for name, obj in vars(__builtin__).items() \n",
        "                     if isinstance(obj, types.BuiltinFunctionType)]"
      ],
      "execution_count": 0,
      "outputs": []
    },
    {
      "cell_type": "markdown",
      "metadata": {
        "id": "rvKI_UqMGmKw",
        "colab_type": "text"
      },
      "source": [
        "# 3. Funciones definidas por el usuario\n",
        "\n",
        "Recordar, una funcion se declara mediante el empleo de la palabra \"def\" seguida del nombre de la funcion. "
      ]
    },
    {
      "cell_type": "code",
      "metadata": {
        "id": "hyJf153TG6mg",
        "colab_type": "code",
        "colab": {}
      },
      "source": [
        "def total_mi_sueldo(neto,social,cesantias):\n",
        "    total = (neto-social-cesantias)      # El proceso es una operacion aritmetica basica\n",
        "    return total"
      ],
      "execution_count": 0,
      "outputs": []
    },
    {
      "cell_type": "code",
      "metadata": {
        "id": "xggCNYIy22Y3",
        "colab_type": "code",
        "colab": {
          "base_uri": "https://localhost:8080/",
          "height": 34
        },
        "outputId": "5a571c27-d5ed-4a74-b15b-30d3ecf63652"
      },
      "source": [
        "def check_isupper(str):\n",
        "    return str==str.upper()                   # el proceso es una comparacion logica\n",
        "\n",
        "check_isupper('DAVID')                        #utilizo la funcion"
      ],
      "execution_count": 48,
      "outputs": [
        {
          "output_type": "execute_result",
          "data": {
            "text/plain": [
              "True"
            ]
          },
          "metadata": {
            "tags": []
          },
          "execution_count": 48
        }
      ]
    },
    {
      "cell_type": "code",
      "metadata": {
        "id": "LbXT9r0QGXIa",
        "colab_type": "code",
        "colab": {}
      },
      "source": [
        "def unique(lst):                       # esta funcion determina si los elementos de una lista son unicos\n",
        "    return len(lst)==len(set(lst))"
      ],
      "execution_count": 0,
      "outputs": []
    },
    {
      "cell_type": "markdown",
      "metadata": {
        "id": "6xaEienkJVsz",
        "colab_type": "text"
      },
      "source": [
        "#4. funciones con parametros por defecto\n",
        "\n",
        "los parametros de la funcion son los datos o variables de entrada. en ocasiones las funciones no reciben datos de entrada, sin embargo realizan un proceso, y arrojan una salida. "
      ]
    },
    {
      "cell_type": "code",
      "metadata": {
        "id": "FSAoS-WjKLrU",
        "colab_type": "code",
        "colab": {
          "base_uri": "https://localhost:8080/",
          "height": 34
        },
        "outputId": "a0c3fa24-74e7-4ee3-9739-3cc623050a5c"
      },
      "source": [
        "def imprime():\n",
        "    return print('no recibo nada y doy un resultado')\n",
        "imprime()"
      ],
      "execution_count": 53,
      "outputs": [
        {
          "output_type": "stream",
          "text": [
            "no recibo nada y doy un resultado\n"
          ],
          "name": "stdout"
        }
      ]
    },
    {
      "cell_type": "code",
      "metadata": {
        "id": "zM8IPPDoIJeD",
        "colab_type": "code",
        "colab": {}
      },
      "source": [
        "def multiply(a, b=10):       # esta funcion tiene un parametro por defecto, siempre sera el mismo\n",
        "  return a*b"
      ],
      "execution_count": 0,
      "outputs": []
    },
    {
      "cell_type": "markdown",
      "metadata": {
        "id": "ZS27N1kYJdlC",
        "colab_type": "text"
      },
      "source": [
        "#5. funciones con una cantidad de parametros indeterminados"
      ]
    },
    {
      "cell_type": "code",
      "metadata": {
        "id": "lc_r7GvRJc6D",
        "colab_type": "code",
        "colab": {}
      },
      "source": [
        "def calculate_sum(a, *args):          # el primer parametro es un tipo entero unico, el segundo parametro es un objeto iterable, tipo lista de numeros\n",
        "  sum = a\n",
        "  for i in args:\n",
        "    sum += i\n",
        "  return sum"
      ],
      "execution_count": 0,
      "outputs": []
    },
    {
      "cell_type": "code",
      "metadata": {
        "id": "_SIiM8L2Jrhk",
        "colab_type": "code",
        "colab": {
          "base_uri": "https://localhost:8080/",
          "height": 34
        },
        "outputId": "fe64a28d-1645-42d7-bec6-b6ff321b9ae7"
      },
      "source": [
        "calculate_sum(10) #              # solo se le ingresa un parametro y procesa este. "
      ],
      "execution_count": 51,
      "outputs": [
        {
          "output_type": "execute_result",
          "data": {
            "text/plain": [
              "10"
            ]
          },
          "metadata": {
            "tags": []
          },
          "execution_count": 51
        }
      ]
    },
    {
      "cell_type": "code",
      "metadata": {
        "id": "1C6llunsJwLg",
        "colab_type": "code",
        "colab": {}
      },
      "source": [
        "calculate_sum(10, 11, 12)         # se le ingresan varios, y los procesa. "
      ],
      "execution_count": 0,
      "outputs": []
    },
    {
      "cell_type": "code",
      "metadata": {
        "id": "k4Dw_t_JJwXY",
        "colab_type": "code",
        "colab": {}
      },
      "source": [
        "calculate_sum(1, 2, 94, 6, 2, 8, 9, 20, 43, 2)      # se le ingresan varios parametros y los procesa. por eso el arterisco en el parametro. "
      ],
      "execution_count": 0,
      "outputs": []
    },
    {
      "cell_type": "code",
      "metadata": {
        "id": "LKu8164uLF8a",
        "colab_type": "code",
        "colab": {}
      },
      "source": [
        "def print_names(f1, l1, **kwargs):\n",
        "  print(f1, l1, end=' ')\n",
        "  for key in kwargs:\n",
        "    print(key, kwargs[key], end=' ')"
      ],
      "execution_count": 0,
      "outputs": []
    },
    {
      "cell_type": "code",
      "metadata": {
        "id": "63d1v_FrLIOB",
        "colab_type": "code",
        "colab": {
          "base_uri": "https://localhost:8080/",
          "height": 34
        },
        "outputId": "e26e7b1a-75ff-4dcc-887c-950d9951f717"
      },
      "source": [
        "print_names(\"anish\", \"gupta\")       # se le ingresan dos parametros normales a la funcion, f1, l1. "
      ],
      "execution_count": 56,
      "outputs": [
        {
          "output_type": "stream",
          "text": [
            "anish gupta "
          ],
          "name": "stdout"
        }
      ]
    },
    {
      "cell_type": "code",
      "metadata": {
        "id": "mjwqEwhZLPjp",
        "colab_type": "code",
        "colab": {}
      },
      "source": [
        "print_names(\"anish\", \"gupta\", mohan=\"singh\", mohit=\"jain\") #se le ingresan dos parametros normales a la funcion, f1, l1; ademas parametros tipo diccionario."
      ],
      "execution_count": 0,
      "outputs": []
    },
    {
      "cell_type": "markdown",
      "metadata": {
        "id": "EXpemne3MfOr",
        "colab_type": "text"
      },
      "source": [
        "#6.Funciones que devuelven multiples valores\n"
      ]
    },
    {
      "cell_type": "code",
      "metadata": {
        "id": "5M1NYdQHNIP6",
        "colab_type": "code",
        "colab": {}
      },
      "source": [
        "def checkPrime(x):                     #funcion que chequea si un numero es primo o no? \n",
        "    if x>1:\n",
        "        for i in range(2,x-1):\n",
        "            if (x%i==0):\n",
        "                return False\n",
        "            else:\n",
        "                return True"
      ],
      "execution_count": 0,
      "outputs": []
    },
    {
      "cell_type": "code",
      "metadata": {
        "id": "GaVNX645Ts6v",
        "colab_type": "code",
        "colab": {
          "base_uri": "https://localhost:8080/",
          "height": 34
        },
        "outputId": "b6658624-f615-4f79-db6f-8d4bec6d24d3"
      },
      "source": [
        "checkPrime(7)"
      ],
      "execution_count": 70,
      "outputs": [
        {
          "output_type": "execute_result",
          "data": {
            "text/plain": [
              "True"
            ]
          },
          "metadata": {
            "tags": []
          },
          "execution_count": 70
        }
      ]
    },
    {
      "cell_type": "code",
      "metadata": {
        "id": "_dHhRF7jMeKV",
        "colab_type": "code",
        "colab": {}
      },
      "source": [
        "def prime_numbers(x):   # funcion de un parametro x, o dato de entrada, el significado es: quiero una lista de los primeros x numeros primos\n",
        "  l=[]                   # dentro de las funciones se pueden definir variables, en este caso tipo lista. \n",
        "  for i in range(1,x+1):      #ciclo for sobre un rango x+1                   \n",
        "    if checkPrime(i):        # utilizo una funcion definida previamente\n",
        "      l.append(i)\n",
        "  return len(l), l\n",
        "\n",
        "no_of_primes, primes_list = prime_numbers(100)"
      ],
      "execution_count": 0,
      "outputs": []
    },
    {
      "cell_type": "code",
      "metadata": {
        "id": "a790j4JuTfrp",
        "colab_type": "code",
        "colab": {}
      },
      "source": [
        "primes_list"
      ],
      "execution_count": 0,
      "outputs": []
    },
    {
      "cell_type": "markdown",
      "metadata": {
        "id": "6XiJj_9PVjDh",
        "colab_type": "text"
      },
      "source": [
        "7. Establecer los tipos de datos de los parametros de entrada, y de los de salida"
      ]
    },
    {
      "cell_type": "code",
      "metadata": {
        "id": "QF2j46O3Vr82",
        "colab_type": "code",
        "colab": {}
      },
      "source": [
        "def prime_numbers(x:int) -> (int, list):  # se observa que en los parametros de entrada se especifica el tipo de dato: int. y la salida de la funcion \n",
        "                                          #, que arroja dos salidas, int y list respectivamente.\n",
        "  l=[]\n",
        "  for i in range(x+1):\n",
        "    if checkPrime(i):\n",
        "      l.append(i)\n",
        "  return len(l), l"
      ],
      "execution_count": 0,
      "outputs": []
    }
  ]
}